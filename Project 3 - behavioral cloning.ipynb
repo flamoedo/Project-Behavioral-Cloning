{
 "cells": [
  {
   "cell_type": "markdown",
   "metadata": {},
   "source": [
    "### Image pre-process"
   ]
  },
  {
   "cell_type": "code",
   "execution_count": 1,
   "metadata": {
    "collapsed": true
   },
   "outputs": [],
   "source": [
    "import os\n",
    "import csv\n",
    "\n",
    "import cv2\n",
    "import numpy as np\n",
    "import sklearn\n",
    "import sklearn.utils\n",
    "\n",
    "\n",
    "samples = []\n",
    "#with open('data/driving_log.csv') as csvfile:\n",
    "#    reader = csv.reader(csvfile)\n",
    "#    for line in reader:\n",
    "#        samples.append(line)\n",
    "        \n",
    "with open('data2/driving_log.csv') as csvfile:\n",
    "    reader = csv.reader(csvfile)\n",
    "    for line in reader:\n",
    "        samples.append(line)        \n",
    "\n",
    "samples = sklearn.utils.shuffle(samples)        \n",
    "        \n",
    "\n",
    "#from sklearn.model_selection import train_test_split\n",
    "#train_samples, validation_samples = train_test_split(samples, test_size=0.2)\n",
    "\n",
    "\n",
    "def generator(samples, batch_size=32):\n",
    "    \n",
    "    batch_size = int(batch_size/6)\n",
    "    \n",
    "    num_samples = len(samples)\n",
    "    #samples = sklearn.utils.shuffle(samples)\n",
    "    for offset in range(0, batch_size):\n",
    "        batch_samples = samples[offset:offset+batch_size]\n",
    "\n",
    "        images = []\n",
    "        angles = []\n",
    "        for batch_sample in batch_samples:\n",
    "            for i in range(3):\n",
    "                #name = 'data\\\\IMG\\\\'+batch_sample[i].split('\\\\')[-1]\n",
    "                \n",
    "                name =  batch_sample[i].split('\\\\')[-3] + '\\\\' + \\\n",
    "                batch_sample[i].split('\\\\')[-2] + '\\\\' + batch_sample[i].split('\\\\')[-1]\n",
    "\n",
    "                center_image = cv2.imread(name)\n",
    "                b,g,r = cv2.split(center_image)\n",
    "                img2 = cv2.merge([r,g,b])\n",
    "                if i == 0:\n",
    "                    center_angle = float(batch_sample[3])\n",
    "                if i == 1:\n",
    "                    center_angle = float(batch_sample[3]) + 0.25            \n",
    "                if i == 2:\n",
    "                    center_angle = float(batch_sample[3]) - 0.25   \n",
    "                \n",
    "                images.append(img2)\n",
    "                angles.append(center_angle)\n",
    "                \n",
    "        augmented_images, augmented_angles = [], []   \n",
    "        \n",
    "        for image, angle in zip(images,angles):\n",
    "            augmented_images.append(image)\n",
    "            augmented_angles.append(angle)\n",
    "            augmented_images.append(cv2.flip(image,1))\n",
    "            augmented_angles.append(angle*-1.0)\n",
    "            \n",
    "        X_train = np.array(augmented_images)\n",
    "        y_train = np.array(augmented_angles)\n",
    "    \n",
    "        \n",
    "        return sklearn.utils.shuffle(X_train, y_train)"
   ]
  },
  {
   "cell_type": "code",
   "execution_count": 2,
   "metadata": {
    "collapsed": true
   },
   "outputs": [],
   "source": [
    "X_train, y_train = generator(samples, batch_size=30000)"
   ]
  },
  {
   "cell_type": "markdown",
   "metadata": {},
   "source": [
    "### NVidia Network"
   ]
  },
  {
   "cell_type": "code",
   "execution_count": 3,
   "metadata": {},
   "outputs": [
    {
     "name": "stderr",
     "output_type": "stream",
     "text": [
      "Using TensorFlow backend.\n"
     ]
    }
   ],
   "source": [
    "from keras.models import Sequential\n",
    "from keras.layers import Flatten, Dense, Lambda, Conv2D, Cropping2D, Dropout\n",
    "from keras.layers import MaxPooling2D\n",
    "\n",
    "model = Sequential()\n",
    "model.add(Lambda(lambda x: x / 255.0 - 0.5, input_shape=(160,320,3)))\n",
    "model.add(Cropping2D(cropping=((70,25),(0,0))))\n",
    "model.add(Conv2D(24,(5,5),strides=(2,2),activation='relu', padding='valid', kernel_initializer='he_normal'))\n",
    "model.add(Conv2D(36,(5,5),strides=(2,2),activation='relu', padding='valid', kernel_initializer='he_normal'))\n",
    "model.add(Conv2D(48,(5,5),strides=(2,2),activation='relu', padding='valid', kernel_initializer='he_normal'))\n",
    "model.add(Conv2D(64,(3,3),activation='relu', padding='valid', kernel_initializer='he_normal'))\n",
    "model.add(Conv2D(64,(3,3),activation='relu', padding='valid', kernel_initializer='he_normal'))\n",
    "model.add(Flatten())\n",
    "model.add(Dense(1164, kernel_initializer='he_normal'))\n",
    "model.add(Dropout(0.3))\n",
    "model.add(Dense(100, kernel_initializer='he_normal'))\n",
    "model.add(Dropout(0.3))\n",
    "model.add(Dense(50, kernel_initializer='he_normal'))\n",
    "model.add(Dense(10, kernel_initializer='he_normal'))\n",
    "model.add(Dense(1, kernel_initializer='he_normal'))\n",
    "\n",
    "model.compile(loss='mse', optimizer='adam')\n"
   ]
  },
  {
   "cell_type": "code",
   "execution_count": 5,
   "metadata": {},
   "outputs": [
    {
     "name": "stdout",
     "output_type": "stream",
     "text": [
      "Train on 24000 samples, validate on 6000 samples\n",
      "Epoch 1/3\n",
      "24000/24000 [==============================] - 70s - loss: 0.0500 - val_loss: 0.0486\n",
      "Epoch 2/3\n",
      "24000/24000 [==============================] - 71s - loss: 0.0455 - val_loss: 0.0451\n",
      "Epoch 3/3\n",
      "24000/24000 [==============================] - 71s - loss: 0.0430 - val_loss: 0.0457\n"
     ]
    }
   ],
   "source": [
    "model.fit(X_train, y_train, validation_split=0.2, shuffle=True, epochs=3)\n",
    "model.save('model_lane2.h5')"
   ]
  },
  {
   "cell_type": "code",
   "execution_count": 4,
   "metadata": {},
   "outputs": [
    {
     "name": "stderr",
     "output_type": "stream",
     "text": [
      "Using TensorFlow backend.\n"
     ]
    }
   ],
   "source": [
    "from keras.models import load_model\n",
    "\n",
    "model = load_model('model_lane2.h5')\n",
    "\n"
   ]
  },
  {
   "cell_type": "code",
   "execution_count": null,
   "metadata": {
    "collapsed": true
   },
   "outputs": [],
   "source": []
  }
 ],
 "metadata": {
  "kernelspec": {
   "display_name": "Python 3",
   "language": "python",
   "name": "python3"
  },
  "language_info": {
   "codemirror_mode": {
    "name": "ipython",
    "version": 3
   },
   "file_extension": ".py",
   "mimetype": "text/x-python",
   "name": "python",
   "nbconvert_exporter": "python",
   "pygments_lexer": "ipython3",
   "version": "3.5.3"
  }
 },
 "nbformat": 4,
 "nbformat_minor": 2
}
